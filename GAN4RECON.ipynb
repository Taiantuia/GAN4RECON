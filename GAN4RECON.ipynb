{
 "cells": [
  {
   "cell_type": "code",
   "execution_count": null,
   "metadata": {
    "colab": {
     "base_uri": "https://localhost:8080/",
     "height": 118
    },
    "id": "qcEXA_5g3cNf",
    "outputId": "d1b7e089-4fc4-4ae8-c7d8-edc6646214c1"
   },
   "outputs": [],
   "source": [
    "from google.colab import drive\n",
    "#mount google drive\n",
    "drive.mount('/content/drive')"
   ]
  },
  {
   "cell_type": "code",
   "execution_count": null,
   "metadata": {
    "colab": {
     "base_uri": "https://localhost:8080/",
     "height": 77
    },
    "id": "zAg05gY7TEbz",
    "outputId": "43ac4350-8b67-4465-9e4a-b14cd1286294"
   },
   "outputs": [],
   "source": [
    "from keras.datasets import mnist\n",
    "from keras.layers import Input, Dense, Reshape, Flatten, Dropout, Concatenate\n",
    "from keras.layers import BatchNormalization, Activation\n",
    "from keras.layers.advanced_activations import LeakyReLU\n",
    "from keras.models import Sequential, Model\n",
    "from keras.optimizers import Adam\n",
    "import matplotlib.pyplot as plt\n",
    "import sys\n",
    "import numpy as np\n",
    "import h5py\n",
    "import scipy"
   ]
  },
  {
   "cell_type": "code",
   "execution_count": null,
   "metadata": {
    "id": "VhZEHVbgTq2h"
   },
   "outputs": [],
   "source": [
    "gen = np.load('/content/drive/My Drive/traing_data_set/normalized_gen_pt_eta_phi_mass_7jet.npy',allow_pickle=True)\n",
    "recon = np.load('/content/drive/My Drive/traing_data_set/normalized_pt_eta_phi_mass_3jet.npy',allow_pickle=True)"
   ]
  },
  {
   "cell_type": "code",
   "execution_count": null,
   "metadata": {
    "id": "N7pc7wIopeUg"
   },
   "outputs": [],
   "source": [
    "gen = np.split(gen, [1000000, ], axis=0)\n",
    "gen_train = gen[0]\n",
    "gen_test = gen[1]\n",
    "recon =  np.split(recon, [1000000, ], axis=0)\n",
    "recon_train = recon[0]\n",
    "recon_test = recon[1]"
   ]
  },
  {
   "cell_type": "code",
   "execution_count": null,
   "metadata": {
    "colab": {
     "base_uri": "https://localhost:8080/",
     "height": 33
    },
    "id": "bbWHiVV5qfnx",
    "outputId": "540d861e-5cac-431f-f9d8-1f0d1c3bfaf5"
   },
   "outputs": [],
   "source": [
    "gen_train.shape\n",
    "#gen_test.shape\n",
    "recon_test.shape"
   ]
  },
  {
   "cell_type": "code",
   "execution_count": null,
   "metadata": {
    "id": "cSmgdiD4bTMV"
   },
   "outputs": [],
   "source": [
    "np.save('/content/drive/My Drive/traing_data_set/TEST/GAN004/gen_train', gen_train)\n",
    "np.save('/content/drive/My Drive/traing_data_set/TEST/GAN004/gen_test', gen_test)\n",
    "np.save('/content/drive/My Drive/traing_data_set/TEST/GAN004/recon_train', recon_train)\n",
    "np.save('/content/drive/My Drive/traing_data_set/TEST/GAN004/recon_test', recon_test)"
   ]
  },
  {
   "cell_type": "code",
   "execution_count": null,
   "metadata": {
    "id": "DwBTq0DxTKZ3"
   },
   "outputs": [],
   "source": [
    "class GAN():\n",
    "    def __init__(self):\n",
    "        self.gen_rows = 1\n",
    "        self.gen_cols = 28\n",
    "        self.recon_rows = 1\n",
    "        self.recon_cols = 12\n",
    "        self.gen_shape = (self.gen_rows, self.gen_cols)\n",
    "        self.latent_dim = 12\n",
    "\n",
    "        optimizer = Adam(0.0002, 0.5)\n",
    "\n",
    "        # Build and compile the discriminator\n",
    "        self.discriminator = self.build_discriminator()\n",
    "        self.discriminator.compile(loss='binary_crossentropy',\n",
    "            optimizer=optimizer,\n",
    "            metrics=['accuracy'])\n",
    "\n",
    "        # Build the generator\n",
    "        self.generator = self.build_generator()\n",
    "\n",
    "        # The generator takes noise and gen data as input and tries to generate recon data\n",
    "        noise = Input(shape=((self.latent_dim),))\n",
    "        gen_train = Input(shape=((self.gen_cols,)))\n",
    "        recon = self.generator([noise, gen_train])\n",
    "\n",
    "        self.discriminator.trainable = False\n",
    "\n",
    "        # The discriminator takes generated data as input and determines validity\n",
    "        validity = self.discriminator([recon, gen_train])\n",
    "\n",
    "        # Combines generator and discriminator\n",
    "        self.combined = Model([noise, gen_train], validity)\n",
    "        self.combined.compile(loss='binary_crossentropy', optimizer=optimizer)\n",
    "\n",
    "\n",
    "    def build_generator(self):\n",
    "\n",
    "        model = Sequential()\n",
    "\n",
    "        model.add(Dense(64, input_dim=self.latent_dim+self.gen_cols))\n",
    "        model.add(LeakyReLU(alpha=0.2))\n",
    "        model.add(BatchNormalization(momentum=0.8))\n",
    "        \n",
    "        model.add(Dense(64))\n",
    "        model.add(LeakyReLU(alpha=0.2))\n",
    "        model.add(BatchNormalization(momentum=0.8))\n",
    "\n",
    "        model.add(Dense(32))\n",
    "        model.add(LeakyReLU(alpha=0.2))\n",
    "        model.add(BatchNormalization(momentum=0.8))\n",
    "\n",
    "        model.add(Dense(self.recon_cols, activation='tanh'))\n",
    "\n",
    "        model.summary()\n",
    "\n",
    "        noise = Input(shape=(self.latent_dim,))\n",
    "        gen_train = Input(shape=(self.gen_cols,))\n",
    "        merge = Concatenate(axis=-1)([noise, gen_train])\n",
    "        recon = model(merge)\n",
    "\n",
    "        return Model([noise, gen_train], recon)\n",
    "\n",
    "    def build_discriminator(self):\n",
    "\n",
    "        model = Sequential()\n",
    "\n",
    "        model.add(Dense(64, input_dim=self.recon_cols+self.gen_cols))\n",
    "        model.add(LeakyReLU(alpha=0.2))\n",
    "        #model.add(BatchNormalization(momentum=0.8))\n",
    "\n",
    "        model.add(Dense(64))\n",
    "        model.add(LeakyReLU(alpha=0.2))\n",
    "        #model.add(BatchNormalization(momentum=0.8))\n",
    "\n",
    "        model.add(Dense(32))\n",
    "        model.add(LeakyReLU(alpha=0.2))\n",
    "        #model.add(BatchNormalization(momentum=0.8))\n",
    "\n",
    "        model.add(Dense(16))\n",
    "        model.add(LeakyReLU(alpha=0.2))\n",
    "        #model.add(BatchNormalization(momentum=0.8))\n",
    "        model.add(Dense(1, activation='sigmoid'))\n",
    "        model.summary()\n",
    "\n",
    "        recon = Input(shape=(self.recon_cols,))\n",
    "        gen = Input(shape=(self.gen_cols,))\n",
    "        merge = Concatenate(axis=-1)([recon, gen])\n",
    "\n",
    "        validity = model(merge)\n",
    "\n",
    "        return Model([recon, gen], validity)\n",
    "\n",
    "    def store_fake_data(self):\n",
    "        noise=np.random.normal(0, 1, (1320488, self.latent_dim))\n",
    "        #noise=np.random.uniform(-0.3, 0.3, (1320488, self.latent_dim))\n",
    "        gen_test = np.load('/content/drive/My Drive/traing_data_set/TEST/GAN004/gen_test.npy', allow_pickle = True)\n",
    "        #test_data = np.concatenate(gen_test, noise)\n",
    "        fake_data=self.generator.predict([noise, gen_test])\n",
    "        np.save('/content/drive/My Drive/traing_data_set/TEST/GAN004/generated_data/fake_recon.npy', fake_data)\n",
    "\n",
    "    def train(self, epochs, batch_size=128, sample_interval=50):\n",
    "\n",
    "        # Load data\n",
    "        gen_train = np.load('/content/drive/My Drive/traing_data_set/TEST/GAN004/gen_train.npy',allow_pickle=True)\n",
    "        recon_train = np.load('/content/drive/My Drive/traing_data_set/TEST/GAN004/recon_train.npy',allow_pickle=True)\n",
    "\n",
    "        # Adversarial ground truths\n",
    "        valid = np.ones((batch_size, 1))\n",
    "        fake = np.zeros((batch_size, 1))\n",
    "\n",
    "        # Train Discriminator\n",
    "        for epoch in range(epochs):\n",
    "\n",
    "            idx = np.random.randint(0, gen_train.shape[0], batch_size)\n",
    "            gen_data = gen_train[idx]\n",
    "            recon_data = recon_train[idx]\n",
    "\n",
    "            noise = np.random.normal(0, 1, (batch_size, self.latent_dim))\n",
    "            #noise = np.random.uniform(-0.3, 0.3, (batch_size, self.latent_dim))\n",
    "            #gen_and_noise = np.concatenate(gen_data, noise)\n",
    "\n",
    "            # Generate a batch of new data\n",
    "            fake_recon = self.generator.predict([noise,gen_data])\n",
    "\n",
    "\n",
    "            #create discriminator training sample\n",
    "            #gen_and_recon = np.concatenate(gen_data, recon_data)\n",
    "            #fake_gen_and_recon = np.concatenate(gen_data, fake_recon)\n",
    "            # Train the discriminator\n",
    "            d_loss_real = self.discriminator.train_on_batch([recon_data, gen_data], valid)\n",
    "            d_loss_fake = self.discriminator.train_on_batch([fake_recon, gen_data], fake)\n",
    "            d_loss = 0.5 * np.add(d_loss_real, d_loss_fake)\n",
    "\n",
    "            #  Train Generator\n",
    "\n",
    "            #noise = np.random.normal(0, 1, (batch_size, self.latent_dim))\n",
    "            #maybe use different noise to train generator\n",
    "\n",
    "            # Train the generator (to have the discriminator label samples as valid)\n",
    "            g_loss = self.combined.train_on_batch([noise, gen_data], valid)\n",
    "           # g_loss = self.combined.train_on_batch([noise, gen_data], valid)\n",
    "\n",
    "            # Print the progress\n",
    "            print (\"%d [D loss: %f, acc.: %.2f%%] [G loss: %f]\" % (epoch, d_loss[0], 100*d_loss[1], g_loss))\n",
    "        #Store the final output\n",
    "        self.store_fake_data()"
   ]
  },
  {
   "cell_type": "code",
   "execution_count": null,
   "metadata": {
    "colab": {
     "base_uri": "https://localhost:8080/",
     "height": 1000
    },
    "id": "8W8XkSUwwXDW",
    "outputId": "9ab822ea-2121-4f81-f225-1b89cf0e2145"
   },
   "outputs": [],
   "source": [
    "gan = GAN()\n",
    "gan.train(epochs=5000, batch_size=2048, sample_interval=1000)"
   ]
  },
  {
   "cell_type": "code",
   "execution_count": null,
   "metadata": {
    "colab": {
     "base_uri": "https://localhost:8080/",
     "height": 1000
    },
    "id": "aZssWkBMIN2P",
    "outputId": "368940f5-1aff-4fbf-a9a0-dc61fc2a9f1e"
   },
   "outputs": [],
   "source": [
    "gan.train(epochs=5000, batch_size=2048, sample_interval=1000)"
   ]
  },
  {
   "cell_type": "code",
   "execution_count": null,
   "metadata": {
    "id": "rLGc4T7TFbMk"
   },
   "outputs": [],
   "source": [
    "gan.combined.save('/content/drive/My Drive/test5004.h5')\n",
    "gan.generator.save('/content/drive/My Drive/test5005.h5')\n",
    "gan.discriminator.save('/content/drive/My Drive/test5006.h5')"
   ]
  },
  {
   "cell_type": "code",
   "execution_count": null,
   "metadata": {
    "id": "xGhmYHEaUjFM"
   },
   "outputs": [],
   "source": [
    "fake_data=np.load('/content/drive/My Drive/traing_data_set/TEST/GAN004/generated_data/fake_recon.npy', allow_pickle=True)\n",
    "real_data=np.load('/content/drive/My Drive/traing_data_set/TEST/GAN004/recon_test.npy', allow_pickle=True)\n",
    "gen_test = np.load('/content/drive/My Drive/traing_data_set/TEST/GAN004/gen_test.npy', allow_pickle = True)\n",
    "gen_pt_top7_not_cut=np.load('/content/drive/My Drive/traing_data_set/gen_pt_all_top7.npy',allow_pickle=True)\n",
    "gen_pt_top1_not_cut=np.load('/content/drive/My Drive/traing_data_set/gen_pt_all_top1.npy',allow_pickle=True)\n",
    "gen_pt_top3_not_cut=np.load('/content/drive/My Drive/traing_data_set/gen_pt_all_top3.npy',allow_pickle=True)\n",
    "HT=np.load('/content/drive/My Drive/traing_data_set/HT.npy',allow_pickle=True)\n",
    "count=np.load('/content/drive/My Drive/traing_data_set/count.npy',allow_pickle=True)"
   ]
  },
  {
   "cell_type": "code",
   "execution_count": null,
   "metadata": {
    "id": "0-DFimkIYr3A"
   },
   "outputs": [],
   "source": [
    "fake_split=np.split(fake_data,4,axis=1)\n",
    "real_split=np.split(real_data,4,axis=1)\n",
    "gen_split=np.split(gen_test,4, axis=1)"
   ]
  },
  {
   "cell_type": "code",
   "execution_count": null,
   "metadata": {
    "id": "UFv-sgcdYd10"
   },
   "outputs": [],
   "source": [
    "fake_pt=fake_split[0]\n",
    "fake_leading_pt=fake_split[0][:,:1]\n",
    "fake_eta=fake_split[1]\n",
    "fake_phi=fake_split[2]\n",
    "fake_mass=fake_split[3]\n",
    "real_pt=real_split[0]\n",
    "real_leading_pt=real_split[0][:,:1]\n",
    "real_eta=real_split[1]\n",
    "real_phi=real_split[2]\n",
    "real_mass=real_split[3]\n",
    "gen_pt=gen_split[0][:,:3]\n",
    "gen_pt_all=gen_split[0]\n",
    "gen_leadng_pt=gen_split[0][:,:1]\n",
    "gen_eta=gen_split[1][:,:3]\n",
    "gen_phi=gen_split[2][:,:3]\n",
    "gen_mass=gen_split[3][:,:3]"
   ]
  },
  {
   "cell_type": "code",
   "execution_count": null,
   "metadata": {
    "id": "PpiXtKz-Yr6e"
   },
   "outputs": [],
   "source": [
    "gen_pt=gen_pt.flatten()\n",
    "gen_eta=gen_eta.flatten()\n",
    "gen_phi=gen_phi.flatten()\n",
    "gen_mass=gen_mass.flatten()\n",
    "\n",
    "fake_pt=fake_pt.flatten()\n",
    "fake_eta=fake_eta.flatten()\n",
    "fake_phi=fake_phi.flatten()\n",
    "fake_mass=fake_mass.flatten()\n",
    "\n",
    "real_pt=real=real_pt.flatten()\n",
    "real_eta=real=real_eta.flatten()\n",
    "real_phi=real=real_phi.flatten()\n",
    "real_mass=real=real_mass.flatten()\n",
    "\n",
    "fake_leading_pt=fake_leading_pt.flatten()\n",
    "real_leading_pt=real_leading_pt.flatten()\n",
    "gen_leadng_pt=gen_leadng_pt.flatten()\n",
    "gen_pt_all=gen_pt_all.flatten()\n",
    "gen_pt_top7_not_cut=gen_pt_top7_not_cut.flatten()\n",
    "gen_pt_top1_not_cut=gen_pt_top1_not_cut.flatten()\n",
    "gen_pt_top3_not_cut=gen_pt_top3_not_cut.flatten()"
   ]
  },
  {
   "cell_type": "code",
   "execution_count": null,
   "metadata": {
    "id": "Pn1iwLKN-SwG"
   },
   "outputs": [],
   "source": [
    "float_real_pt=real_pt.astype(float)\n",
    "float_real_eta=real_eta.astype(float)\n",
    "float_real_phi=real_phi.astype(float)\n",
    "float_real_mass=real_mass.astype(float)"
   ]
  },
  {
   "cell_type": "code",
   "execution_count": null,
   "metadata": {
    "colab": {
     "base_uri": "https://localhost:8080/",
     "height": 1000
    },
    "id": "WHH5WJxzYsce",
    "outputId": "4ab07052-67c9-4c09-d7c6-b880bf8ad7af"
   },
   "outputs": [],
   "source": [
    "fig, axs = plt.subplots(3, 4, sharey=True, tight_layout=True)\n",
    "axs[0][0].hist(fake_pt, bins=100)\n",
    "axs[0][1].hist(fake_eta, bins=100)\n",
    "axs[0][2].hist(fake_phi,bins=100)\n",
    "axs[0][3].hist(fake_mass,bins=100)\n",
    "axs[1][0].hist(float_real_pt, bins=100, range=[-1,1])\n",
    "axs[1][1].hist(float_real_eta, bins=100)\n",
    "axs[1][2].hist(float_real_phi,bins=100)\n",
    "axs[1][3].hist(float_real_mass,bins=100)\n",
    "axs[2][0].hist(gen_pt,bins=100)\n",
    "axs[2][1].hist(gen_eta,bins=100)\n",
    "axs[2][2].hist(gen_phi,bins=100)\n",
    "axs[2][3].hist(gen_mass,bins=100)"
   ]
  },
  {
   "cell_type": "code",
   "execution_count": null,
   "metadata": {
    "colab": {
     "base_uri": "https://localhost:8080/",
     "height": 1000
    },
    "id": "5QWpxeG1wV_p",
    "outputId": "533e92fc-892b-4a2a-a0c2-66cf79ec2ecf"
   },
   "outputs": [],
   "source": [
    "fig, axs = plt.subplots(3, 1, sharey=False, tight_layout=True)\n",
    "ns1,bins1,patches1 = axs[0].hist((fake_leading_pt+1)/2*1404+10, bins=150, range=[0,1500])\n",
    "ns2,bins2,patches2 = axs[1].hist((real_leading_pt+1)/2*1404+10, bins=150, range=[0,1500])\n",
    "\n",
    "axs[2].hist((gen_leadng_pt+1)/2*1404+10, bins=150, range=[0,1500])"
   ]
  },
  {
   "cell_type": "code",
   "execution_count": null,
   "metadata": {
    "colab": {
     "base_uri": "https://localhost:8080/",
     "height": 817
    },
    "id": "vngsMOxiedJ1",
    "outputId": "91782c2a-5120-4185-e82a-44fa19eb40e0"
   },
   "outputs": [],
   "source": [
    "fig, axs = plt.subplots(3,1, tight_layout=True)\n",
    "axs[0].hist(gen_pt_top7_not_cut, bins=100)\n",
    "axs[1].hist(count, bins=100)\n",
    "axs[2].hist(HT, bins=100)"
   ]
  },
  {
   "cell_type": "code",
   "execution_count": null,
   "metadata": {
    "colab": {
     "base_uri": "https://localhost:8080/",
     "height": 131
    },
    "id": "wUvUQYQKikm2",
    "outputId": "a580a2d4-baea-4ca3-89aa-9a01dbb89ec1"
   },
   "outputs": [],
   "source": [
    "print(scipy.stats.ks_2samp(fake_pt,float_real_pt),'\\n',\n",
    "scipy.stats.ks_2samp(fake_eta,float_real_eta),'\\n',\n",
    "scipy.stats.ks_2samp(fake_phi,float_real_phi), '\\n',\n",
    "scipy.stats.ks_2samp(fake_mass, float_real_mass), '\\n',\n",
    "scipy.stats.ks_2samp(fake_leading_pt, real_leading_pt), '\\n',\n",
    "scipy.stats.ks_2samp(gen_leadng_pt, real_leading_pt),'\\n',\n",
    "scipy.stats.ks_2samp(gen_leadng_pt, fake_leading_pt))"
   ]
  },
  {
   "cell_type": "code",
   "execution_count": null,
   "metadata": {
    "colab": {
     "base_uri": "https://localhost:8080/",
     "height": 700
    },
    "id": "5jnPgVUagAHA",
    "outputId": "6d8cc1e5-52e2-4430-b297-92ecd41d320e"
   },
   "outputs": [],
   "source": [
    "ns1/ns2"
   ]
  },
  {
   "cell_type": "code",
   "execution_count": null,
   "metadata": {
    "id": "1HHg56mknJSj"
   },
   "outputs": [],
   "source": [
    "x=np.arange(0,1500,10)\n",
    "x1=[         200,          200,          200,          200,\n",
    "                200,          200,          200, 137.        ,\n",
    "                200, 140.        ,          100,          100,\n",
    "       116.        ,  48.66666667,  58.33333333,  26.83333333,\n",
    "        12.84210526,   6.6097561 ,   4.01234568,   3.28888889,\n",
    "         2.61864407,   1.90420561,   1.64220183,   1.42134831,\n",
    "         1.37745098,   1.19758813,   1.10749834,   1.02331861,\n",
    "         1.02122905,   0.95880095,   0.96311031,   0.95006518,\n",
    "         0.94673   ,   0.95576895,   0.95406405,   0.96263169,\n",
    "         0.99261499,   0.96784732,   0.95119994,   0.95892302,\n",
    "         0.99311515,   0.96663543,   0.97705884,   0.96816377,\n",
    "         0.99861383,   0.96450801,   0.95125524,   0.95148756,\n",
    "         0.97711101,   0.95537277,   0.95346677,   1.00368449,\n",
    "         0.98971054,   0.99274308,   1.01636457,   1.06516233,\n",
    "         1.04259711,   1.05798286,   1.07213272,   1.11202652,\n",
    "         1.07350757,   1.05943727,   1.1031475 ,   1.03822265,\n",
    "         1.02508961,   1.01209605,   1.04475491,   0.96158826,\n",
    "         0.98098785,   0.94909191,   0.94250101,   0.81362932,\n",
    "         0.89246401,   0.76951673,   0.65620094,   0.76368876,\n",
    "         0.56856187,   0.75882353,   0.7983871 ,   0.73394495,\n",
    "         1.08333333,   1.30555556,   1.4137931 ,   1.5862069 ,\n",
    "         1.67857143,   3.77777778,   2.81818182,   4.14285714,\n",
    "         2.        ,   4.25      ,   2.85714286,   4.5       ,\n",
    "         5.33333333,   7.        ,   3.8       ,   6.        ,\n",
    "         5.5       ,   1.        ,   1.33333333,   0.        ]"
   ]
  },
  {
   "cell_type": "code",
   "execution_count": null,
   "metadata": {
    "colab": {
     "base_uri": "https://localhost:8080/",
     "height": 361
    },
    "id": "d5a8xJovnnF3",
    "outputId": "26b5f980-5cc2-4a2c-d33b-4e98b88e0455"
   },
   "outputs": [],
   "source": [
    "plt.bar(x, ns1/ns2, width=10)\n",
    "plt.xlabel('leading_jet_pt')\n",
    "plt.ylabel('ratio fake/real')"
   ]
  },
  {
   "cell_type": "code",
   "execution_count": null,
   "metadata": {
    "colab": {
     "base_uri": "https://localhost:8080/",
     "height": 363
    },
    "id": "s5CPylw0tsUu",
    "outputId": "6b6019c4-4ab5-47f8-8f2d-2b9325b9976a"
   },
   "outputs": [],
   "source": [
    "x1=x[30:120]\n",
    "t1=(ns1/ns2)[30:120]\n",
    "plt.bar(x1, t1, width=10)\n",
    "plt.xlabel('leading_jet_pt')\n",
    "plt.ylabel('ratio fake/real')"
   ]
  },
  {
   "cell_type": "code",
   "execution_count": null,
   "metadata": {
    "colab": {
     "base_uri": "https://localhost:8080/",
     "height": 442
    },
    "id": "axwn-BHdpEa4",
    "outputId": "af73a736-1af4-4758-de2f-abea8d7e01b1"
   },
   "outputs": [],
   "source": [
    "gen_pt_all_split=np.split(gen_pt_all, 7, axis=1)"
   ]
  },
  {
   "cell_type": "code",
   "execution_count": null,
   "metadata": {
    "colab": {
     "base_uri": "https://localhost:8080/",
     "height": 50
    },
    "id": "ZNBRSy3lrX6H",
    "outputId": "8372cc8a-9f3b-49e8-a42b-4c70ffaf5728"
   },
   "outputs": [],
   "source": [
    "gen_pt_all"
   ]
  },
  {
   "cell_type": "code",
   "execution_count": null,
   "metadata": {
    "colab": {
     "base_uri": "https://localhost:8080/",
     "height": 223
    },
    "id": "DS7oOFjapg-B",
    "outputId": "b525f106-503a-47e6-cdf1-9b902342a3da"
   },
   "outputs": [],
   "source": [
    "gen_pt_1=gen_pt_all_split[0].flatten()\n",
    "gen_pt_2=gen_pt_all_split[1].flatten()\n",
    "gen_pt_3=gen_pt_all_split[2].flatten()\n",
    "gen_pt_4=gen_pt_all_split[3].flatten()\n",
    "gen_pt_5=gen_pt_all_split[4].flatten()\n",
    "gen_pt_6=gen_pt_all_split[5].flatten()\n",
    "gen_pt_7=gen_pt_all_split[6].flatten()\n",
    "\n"
   ]
  },
  {
   "cell_type": "code",
   "execution_count": null,
   "metadata": {
    "colab": {
     "base_uri": "https://localhost:8080/",
     "height": 1000
    },
    "id": "RZFucvTpqO1C",
    "outputId": "41f2fb2f-bc25-40d6-894d-4289f25ee5eb"
   },
   "outputs": [],
   "source": [
    "fig, axs = plt.subplots(1, sharey=False, tight_layout=False)\n",
    "axs.hist(gen_pt_1, bins=100)\n",
    "fig, axs = plt.subplots(1, sharey=False, tight_layout=False)\n",
    "axs.hist(gen_pt_2, bins=100)\n",
    "fig, axs = plt.subplots(1, sharey=False, tight_layout=False)\n",
    "axs.hist(gen_pt_3, bins=100)\n",
    "fig, axs = plt.subplots(1, sharey=False, tight_layout=False)\n",
    "axs.hist(gen_pt_4, bins=100)\n",
    "fig, axs = plt.subplots(1, sharey=False, tight_layout=False)\n",
    "axs.hist(gen_pt_5, bins=100)\n",
    "fig, axs = plt.subplots(1, sharey=False, tight_layout=False)\n",
    "axs.hist(gen_pt_6, bins=100)\n",
    "fig, axs = plt.subplots(1, sharey=False, tight_layout=False)\n",
    "axs.hist(gen_pt_7, bins=100)"
   ]
  },
  {
   "cell_type": "code",
   "execution_count": null,
   "metadata": {
    "id": "OxCAcuRMGUxU"
   },
   "outputs": [],
   "source": [
    "fake_split_16=np.split(fake_data,16,axis=1)\n",
    "real_split_16=np.split(real_data,16,axis=1)"
   ]
  },
  {
   "cell_type": "code",
   "execution_count": null,
   "metadata": {
    "id": "imeS9SdG5sqk"
   },
   "outputs": [],
   "source": [
    "fake_pt_1=fake_split_16[0].flatten()\n",
    "fake_pt_2=fake_split_16[1].flatten()\n",
    "fake_pt_3=fake_split_16[2].flatten()\n",
    "fake_pt_4=fake_split_16[3].flatten()\n",
    "fake_eta_1=fake_split_16[4].flatten()\n",
    "fake_eta_2=fake_split_16[5].flatten()\n",
    "fake_eta_3=fake_split_16[6].flatten()\n",
    "fake_eta_4=fake_split_16[7].flatten()\n",
    "fake_phi_1=fake_split_16[8].flatten()\n",
    "fake_phi_2=fake_split_16[9].flatten()\n",
    "fake_phi_3=fake_split_16[10].flatten()\n",
    "fake_phi_4=fake_split_16[11].flatten()\n",
    "fake_mass_1=fake_split_16[12].flatten()\n",
    "fake_mass_2=fake_split_16[13].flatten()\n",
    "fake_mass_3=fake_split_16[14].flatten()\n",
    "fake_mass_4=fake_split_16[15].flatten()\n",
    "real_pt_1=real_split_16[0].flatten()\n",
    "real_pt_2=real_split_16[1].flatten()\n",
    "real_pt_3=real_split_16[2].flatten()\n",
    "real_pt_4=real_split_16[3].flatten()\n",
    "real_eta_1=real_split_16[4].flatten()\n",
    "real_eta_2=real_split_16[5].flatten()\n",
    "real_eta_3=real_split_16[6].flatten()\n",
    "real_eta_4=real_split_16[7].flatten()\n",
    "real_phi_1=real_split_16[8].flatten()\n",
    "real_phi_2=real_split_16[9].flatten()\n",
    "real_phi_3=real_split_16[10].flatten()\n",
    "real_phi_4=real_split_16[11].flatten()\n",
    "real_mass_1=real_split_16[12].flatten()\n",
    "real_mass_2=real_split_16[13].flatten()\n",
    "real_mass_3=real_split_16[14].flatten()\n",
    "real_mass_4=real_split_16[15].flatten()"
   ]
  },
  {
   "cell_type": "code",
   "execution_count": null,
   "metadata": {
    "colab": {
     "base_uri": "https://localhost:8080/",
     "height": 51
    },
    "id": "bawb4G_V7kHG",
    "outputId": "74f44da3-f7ae-445a-85f4-2aabec676bfc"
   },
   "outputs": [],
   "source": [
    "fake_pt_2"
   ]
  },
  {
   "cell_type": "code",
   "execution_count": null,
   "metadata": {
    "colab": {
     "base_uri": "https://localhost:8080/",
     "height": 759
    },
    "id": "acTapTvD7nTC",
    "outputId": "87d18319-a59b-4c0a-aa5b-230bd1fe1a5a"
   },
   "outputs": [],
   "source": [
    "fig, axs = plt.subplots(2, 4, sharey=True, tight_layout=True)\n",
    "axs[0][0].hist(fake_pt_1, bins=100)\n",
    "axs[0][1].hist(fake_pt_2, bins=100)\n",
    "axs[0][2].hist(fake_pt_3,bins=100)\n",
    "axs[0][3].hist(fake_pt_4,bins=100)\n",
    "axs[1][0].hist(real_pt_1, bins=100)\n",
    "axs[1][1].hist(real_pt_2, bins=100)\n",
    "axs[1][2].hist(real_pt_3,bins=100)\n",
    "axs[1][3].hist(real_pt_4,bins=100)"
   ]
  },
  {
   "cell_type": "code",
   "execution_count": null,
   "metadata": {
    "colab": {
     "base_uri": "https://localhost:8080/",
     "height": 963
    },
    "id": "P4gvUBl69DMb",
    "outputId": "43363bb6-0b24-4bd1-fb48-8bcd2e02559c"
   },
   "outputs": [],
   "source": [
    "fig, axs = plt.subplots(2, 4, sharey=True, tight_layout=True)\n",
    "axs[0][0].hist(fake_eta_1, bins=100)\n",
    "axs[0][1].hist(fake_eta_2, bins=100)\n",
    "axs[0][2].hist(fake_eta_3,bins=100)\n",
    "axs[0][3].hist(fake_eta_4,bins=100)\n",
    "axs[1][0].hist(real_eta_1, bins=100)\n",
    "axs[1][1].hist(real_eta_2, bins=100)\n",
    "axs[1][2].hist(real_eta_3,bins=100)\n",
    "axs[1][3].hist(real_eta_4,bins=100)\n"
   ]
  },
  {
   "cell_type": "code",
   "execution_count": null,
   "metadata": {
    "colab": {
     "base_uri": "https://localhost:8080/",
     "height": 878
    },
    "id": "ffa-Ql4G9-F1",
    "outputId": "9c9cae24-4d66-40da-efbb-ae51587f39b2"
   },
   "outputs": [],
   "source": [
    "fig, axs = plt.subplots(2, 4, sharey=True, tight_layout=True)\n",
    "axs[0][0].hist(fake_phi_1, bins=100)\n",
    "axs[0][1].hist(fake_phi_2, bins=100)\n",
    "axs[0][2].hist(fake_phi_3,bins=100)\n",
    "axs[0][3].hist(fake_phi_4,bins=100)\n",
    "axs[1][0].hist(real_phi_1, bins=100)\n",
    "axs[1][1].hist(real_phi_2, bins=100)\n",
    "axs[1][2].hist(real_phi_3,bins=100)\n",
    "axs[1][3].hist(real_phi_4,bins=100)"
   ]
  },
  {
   "cell_type": "code",
   "execution_count": null,
   "metadata": {
    "colab": {
     "base_uri": "https://localhost:8080/",
     "height": 844
    },
    "id": "CefpIw__-D2O",
    "outputId": "455e6ba1-a29e-47a7-a3e8-0e0786af1d4f"
   },
   "outputs": [],
   "source": [
    "fig, axs = plt.subplots(2, 4, sharey=True, tight_layout=True)\n",
    "axs[0][0].hist(fake_mass_1, bins=100)\n",
    "axs[0][1].hist(fake_mass_2, bins=100)\n",
    "axs[0][2].hist(fake_mass_3,bins=100)\n",
    "axs[0][3].hist(fake_mass_4,bins=100)\n",
    "axs[1][0].hist(real_mass_1, bins=100)\n",
    "axs[1][1].hist(real_mass_2, bins=100)\n",
    "axs[1][2].hist(real_mass_3,bins=100)\n",
    "axs[1][3].hist(real_mass_4,bins=100)"
   ]
  }
 ],
 "metadata": {
  "accelerator": "GPU",
  "colab": {
   "provenance": [],
   "toc_visible": true
  },
  "kernelspec": {
   "display_name": "Python 3",
   "language": "python",
   "name": "python3"
  },
  "language_info": {
   "codemirror_mode": {
    "name": "ipython",
    "version": 3
   },
   "file_extension": ".py",
   "mimetype": "text/x-python",
   "name": "python",
   "nbconvert_exporter": "python",
   "pygments_lexer": "ipython3",
   "version": "3.7.6"
  }
 },
 "nbformat": 4,
 "nbformat_minor": 1
}
